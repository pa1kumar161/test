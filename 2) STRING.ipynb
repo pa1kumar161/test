{
 "cells": [
  {
   "cell_type": "markdown",
   "id": "16c6c247",
   "metadata": {},
   "source": [
    "#### Data structure is a way to store and organize the data so that it can be accessed effectively. Later it can be used and manipulated accordingly. It allows to store in such a way that it can be retreived very quickly and effictely \n",
    "### Built in Data structures : List, Tuple, Set, Dictionary\n",
    "### User defined : Stack, Queue, Linked list, Tree, Graph\n",
    "\n"
   ]
  },
  {
   "cell_type": "markdown",
   "id": "17f31628",
   "metadata": {},
   "source": [
    "you can access a string in 2 ways \n",
    "1) indexing \n",
    "2) Slicing\n",
    "    s='besant'\n",
    "    s[2:4]=sa\n",
    "    s[:4]=besa\n",
    "    s[3:]=ant\n",
    "    s[:]=besant\n",
    "    s[::2]=bsn"
   ]
  },
  {
   "cell_type": "markdown",
   "id": "83123300",
   "metadata": {},
   "source": [
    "## String Concatination:\n",
    "s1='Besant'\n",
    "s2='bangalore'\n",
    "s1+s2='besantstring'\n",
    "## String Repition:\n",
    "s1*3='besantbesantbesant'"
   ]
  },
  {
   "cell_type": "code",
   "execution_count": null,
   "id": "64ab1889",
   "metadata": {},
   "outputs": [],
   "source": [
    "***"
   ]
  },
  {
   "cell_type": "code",
   "execution_count": 1,
   "id": "8e034f06",
   "metadata": {},
   "outputs": [
    {
     "data": {
      "text/plain": [
       "'besantbesantbesant'"
      ]
     },
     "execution_count": 1,
     "metadata": {},
     "output_type": "execute_result"
    }
   ],
   "source": [
    "s1='besant'\n",
    "s1*3"
   ]
  },
  {
   "cell_type": "code",
   "execution_count": 5,
   "id": "a29f87bf",
   "metadata": {},
   "outputs": [
    {
     "name": "stdout",
     "output_type": "stream",
     "text": [
      "bananab\n",
      "a\n",
      "n\n",
      "a\n",
      "n\n",
      "a\n"
     ]
    }
   ],
   "source": [
    "#loops in string\n",
    "string = 'banana'\n",
    "for x in string:\n",
    "    print(x,end=\"\")\n",
    "    \n",
    "#or \n",
    "for x in 'banana':\n",
    "    print(x)"
   ]
  },
  {
   "cell_type": "code",
   "execution_count": 3,
   "id": "aca0e7f7",
   "metadata": {},
   "outputs": [
    {
     "name": "stdout",
     "output_type": "stream",
     "text": [
      "2014105540784\n",
      "2014105540784\n",
      "apple\n",
      "\n",
      "2014106321088\n",
      "[1, 2, 3]\n",
      "2014106321088\n"
     ]
    }
   ],
   "source": [
    "# why string is immutable\n",
    "a= \"apple\"\n",
    "print(id(a))\n",
    "a.upper()\n",
    "print(id(a))\n",
    "print(a)\n",
    "\n",
    "print()\n",
    "\n",
    "#why list is mutable\n",
    "a=[1,2,3,4]\n",
    "print(id(a))\n",
    "a.pop()\n",
    "print(a)\n",
    "print(id(a))"
   ]
  },
  {
   "cell_type": "markdown",
   "id": "2cc28189",
   "metadata": {},
   "source": [
    "## len; in; not in;"
   ]
  },
  {
   "cell_type": "code",
   "execution_count": null,
   "id": "845eed53",
   "metadata": {},
   "outputs": [],
   "source": [
    "# length\n",
    "string = 'banana'\n",
    "print(len(string))"
   ]
  },
  {
   "cell_type": "code",
   "execution_count": 9,
   "id": "b9618e77",
   "metadata": {},
   "outputs": [
    {
     "name": "stdout",
     "output_type": "stream",
     "text": [
      "True\n"
     ]
    }
   ],
   "source": [
    "#check if a word or letter is present in string\n",
    "text = 'the best thing the world is free'\n",
    "'free' in text"
   ]
  },
  {
   "cell_type": "code",
   "execution_count": 10,
   "id": "bdffcca4",
   "metadata": {},
   "outputs": [
    {
     "name": "stdout",
     "output_type": "stream",
     "text": [
      "yes it is present\n"
     ]
    }
   ],
   "source": [
    "#use this check in if condition\n",
    "text = 'the best thing in the world is free'\n",
    "if 'free' in text:\n",
    "    print('yes it is present')"
   ]
  },
  {
   "cell_type": "code",
   "execution_count": 11,
   "id": "9d5556ba",
   "metadata": {},
   "outputs": [
    {
     "data": {
      "text/plain": [
       "True"
      ]
     },
     "execution_count": 11,
     "metadata": {},
     "output_type": "execute_result"
    }
   ],
   "source": [
    "#check not in\n",
    "text = 'the best things in world is free'\n",
    "'happy' not in text"
   ]
  },
  {
   "cell_type": "markdown",
   "id": "fa59145d",
   "metadata": {},
   "source": [
    "## Slicing "
   ]
  },
  {
   "cell_type": "code",
   "execution_count": 14,
   "id": "acba06fe",
   "metadata": {},
   "outputs": [
    {
     "name": "stdout",
     "output_type": "stream",
     "text": [
      " on\n"
     ]
    }
   ],
   "source": [
    "# [a:b]  slices from a to b \n",
    "p='Grass on the other side look greener'\n",
    "print(p[5:8])"
   ]
  },
  {
   "cell_type": "code",
   "execution_count": 16,
   "id": "e65e8c1b",
   "metadata": {},
   "outputs": [
    {
     "name": "stdout",
     "output_type": "stream",
     "text": [
      "Grass on\n"
     ]
    }
   ],
   "source": [
    "# [:b]  slices from start to b\n",
    "p='Grass on the other side look greener'\n",
    "print(p[:8])"
   ]
  },
  {
   "cell_type": "code",
   "execution_count": 17,
   "id": "49bd3900",
   "metadata": {},
   "outputs": [
    {
     "name": "stdout",
     "output_type": "stream",
     "text": [
      " on the other side look greener\n"
     ]
    }
   ],
   "source": [
    "# [b:] slices from b to end\n",
    "p='grass on the other side look greener'\n",
    "print(p[5:])"
   ]
  },
  {
   "cell_type": "code",
   "execution_count": 18,
   "id": "0267a6d8",
   "metadata": {},
   "outputs": [
    {
     "name": "stdout",
     "output_type": "stream",
     "text": [
      "de look\n"
     ]
    }
   ],
   "source": [
    "# [-a:-b]  slices from -a to -b, but -a should be before -b in the string\n",
    "p='grass on the other side look greener'\n",
    "print(p[-15:-8])"
   ]
  },
  {
   "cell_type": "markdown",
   "id": "10d50686",
   "metadata": {},
   "source": [
    "# Modify String"
   ]
  },
  {
   "cell_type": "code",
   "execution_count": null,
   "id": "60831a51",
   "metadata": {},
   "outputs": [],
   "source": [
    "#.upper\n",
    "#.lower\n",
    "#.strip\n",
    "#.replace\n",
    "#.split"
   ]
  },
  {
   "cell_type": "code",
   "execution_count": 42,
   "id": "3696ee13",
   "metadata": {},
   "outputs": [
    {
     "name": "stdout",
     "output_type": "stream",
     "text": [
      "GRASS ON THE OTHER SIDE LOOK GREENER\n"
     ]
    }
   ],
   "source": [
    "# .upper = everything in upper\n",
    "p='grass on the other side look greener'\n",
    "print(p.upper())"
   ]
  },
  {
   "cell_type": "code",
   "execution_count": 23,
   "id": "73343a5c",
   "metadata": {},
   "outputs": [
    {
     "name": "stdout",
     "output_type": "stream",
     "text": [
      "grass on the other side looks greener\n"
     ]
    }
   ],
   "source": [
    "# .lower = evertthing to lower\n",
    "p='GRASS ON THE other side looks GREENER'\n",
    "print(p.lower())"
   ]
  },
  {
   "cell_type": "code",
   "execution_count": 1,
   "id": "7238d3c2",
   "metadata": {},
   "outputs": [
    {
     "name": "stdout",
     "output_type": "stream",
     "text": [
      "my    apple    is\n",
      " on the ,other % side looks greene\n",
      "my name is pava\n"
     ]
    },
    {
     "ename": "KeyboardInterrupt",
     "evalue": "Interrupted by user",
     "output_type": "error",
     "traceback": [
      "\u001b[1;31m---------------------------------------------------------------------------\u001b[0m",
      "\u001b[1;31mKeyboardInterrupt\u001b[0m                         Traceback (most recent call last)",
      "Cell \u001b[1;32mIn[1], line 11\u001b[0m\n\u001b[0;32m      8\u001b[0m \u001b[38;5;28mstr\u001b[39m\u001b[38;5;241m=\u001b[39m\u001b[38;5;124m'\u001b[39m\u001b[38;5;124mmy name is pavan\u001b[39m\u001b[38;5;124m'\u001b[39m\n\u001b[0;32m      9\u001b[0m \u001b[38;5;28mprint\u001b[39m(\u001b[38;5;28mstr\u001b[39m\u001b[38;5;241m.\u001b[39mstrip(\u001b[38;5;124m'\u001b[39m\u001b[38;5;124mn\u001b[39m\u001b[38;5;124m'\u001b[39m))  \u001b[38;5;66;03m#last n is removed\u001b[39;00m\n\u001b[1;32m---> 11\u001b[0m x\u001b[38;5;241m=\u001b[39m\u001b[38;5;28mint\u001b[39m(\u001b[38;5;28;43minput\u001b[39;49m\u001b[43m(\u001b[49m\u001b[43m)\u001b[49m\u001b[38;5;241m.\u001b[39mstrip())\n\u001b[0;32m     12\u001b[0m \u001b[38;5;28mprint\u001b[39m(x)\n",
      "File \u001b[1;32mC:\\ProgramData\\anaconda3\\lib\\site-packages\\ipykernel\\kernelbase.py:1175\u001b[0m, in \u001b[0;36mKernel.raw_input\u001b[1;34m(self, prompt)\u001b[0m\n\u001b[0;32m   1171\u001b[0m \u001b[38;5;28;01mif\u001b[39;00m \u001b[38;5;129;01mnot\u001b[39;00m \u001b[38;5;28mself\u001b[39m\u001b[38;5;241m.\u001b[39m_allow_stdin:\n\u001b[0;32m   1172\u001b[0m     \u001b[38;5;28;01mraise\u001b[39;00m StdinNotImplementedError(\n\u001b[0;32m   1173\u001b[0m         \u001b[38;5;124m\"\u001b[39m\u001b[38;5;124mraw_input was called, but this frontend does not support input requests.\u001b[39m\u001b[38;5;124m\"\u001b[39m\n\u001b[0;32m   1174\u001b[0m     )\n\u001b[1;32m-> 1175\u001b[0m \u001b[38;5;28;01mreturn\u001b[39;00m \u001b[38;5;28;43mself\u001b[39;49m\u001b[38;5;241;43m.\u001b[39;49m\u001b[43m_input_request\u001b[49m\u001b[43m(\u001b[49m\n\u001b[0;32m   1176\u001b[0m \u001b[43m    \u001b[49m\u001b[38;5;28;43mstr\u001b[39;49m\u001b[43m(\u001b[49m\u001b[43mprompt\u001b[49m\u001b[43m)\u001b[49m\u001b[43m,\u001b[49m\n\u001b[0;32m   1177\u001b[0m \u001b[43m    \u001b[49m\u001b[38;5;28;43mself\u001b[39;49m\u001b[38;5;241;43m.\u001b[39;49m\u001b[43m_parent_ident\u001b[49m\u001b[43m[\u001b[49m\u001b[38;5;124;43m\"\u001b[39;49m\u001b[38;5;124;43mshell\u001b[39;49m\u001b[38;5;124;43m\"\u001b[39;49m\u001b[43m]\u001b[49m\u001b[43m,\u001b[49m\n\u001b[0;32m   1178\u001b[0m \u001b[43m    \u001b[49m\u001b[38;5;28;43mself\u001b[39;49m\u001b[38;5;241;43m.\u001b[39;49m\u001b[43mget_parent\u001b[49m\u001b[43m(\u001b[49m\u001b[38;5;124;43m\"\u001b[39;49m\u001b[38;5;124;43mshell\u001b[39;49m\u001b[38;5;124;43m\"\u001b[39;49m\u001b[43m)\u001b[49m\u001b[43m,\u001b[49m\n\u001b[0;32m   1179\u001b[0m \u001b[43m    \u001b[49m\u001b[43mpassword\u001b[49m\u001b[38;5;241;43m=\u001b[39;49m\u001b[38;5;28;43;01mFalse\u001b[39;49;00m\u001b[43m,\u001b[49m\n\u001b[0;32m   1180\u001b[0m \u001b[43m\u001b[49m\u001b[43m)\u001b[49m\n",
      "File \u001b[1;32mC:\\ProgramData\\anaconda3\\lib\\site-packages\\ipykernel\\kernelbase.py:1217\u001b[0m, in \u001b[0;36mKernel._input_request\u001b[1;34m(self, prompt, ident, parent, password)\u001b[0m\n\u001b[0;32m   1214\u001b[0m             \u001b[38;5;28;01mbreak\u001b[39;00m\n\u001b[0;32m   1215\u001b[0m \u001b[38;5;28;01mexcept\u001b[39;00m \u001b[38;5;167;01mKeyboardInterrupt\u001b[39;00m:\n\u001b[0;32m   1216\u001b[0m     \u001b[38;5;66;03m# re-raise KeyboardInterrupt, to truncate traceback\u001b[39;00m\n\u001b[1;32m-> 1217\u001b[0m     \u001b[38;5;28;01mraise\u001b[39;00m \u001b[38;5;167;01mKeyboardInterrupt\u001b[39;00m(\u001b[38;5;124m\"\u001b[39m\u001b[38;5;124mInterrupted by user\u001b[39m\u001b[38;5;124m\"\u001b[39m) \u001b[38;5;28;01mfrom\u001b[39;00m \u001b[38;5;28mNone\u001b[39m\n\u001b[0;32m   1218\u001b[0m \u001b[38;5;28;01mexcept\u001b[39;00m \u001b[38;5;167;01mException\u001b[39;00m:\n\u001b[0;32m   1219\u001b[0m     \u001b[38;5;28mself\u001b[39m\u001b[38;5;241m.\u001b[39mlog\u001b[38;5;241m.\u001b[39mwarning(\u001b[38;5;124m\"\u001b[39m\u001b[38;5;124mInvalid Message:\u001b[39m\u001b[38;5;124m\"\u001b[39m, exc_info\u001b[38;5;241m=\u001b[39m\u001b[38;5;28;01mTrue\u001b[39;00m)\n",
      "\u001b[1;31mKeyboardInterrupt\u001b[0m: Interrupted by user"
     ]
    }
   ],
   "source": [
    "# .strip = removes whitespace in the beginning or end but not in between\n",
    "p='    my    apple    is   '\n",
    "print(p.strip())\n",
    "\n",
    "p='grass on the ,other % side looks greener'\n",
    "print(p.strip('grass'))\n",
    "\n",
    "str='my name is pavan'\n",
    "print(str.strip('n'))  #last n is removed\n",
    "\n",
    "x=int(input().strip())\n",
    "print(x)\n",
    "\n",
    "# cannot remove the words/letters in between\n",
    "# but if there is space before then first character will not be removed"
   ]
  },
  {
   "cell_type": "code",
   "execution_count": 2,
   "id": "97d5516a",
   "metadata": {},
   "outputs": [
    {
     "name": "stdout",
     "output_type": "stream",
     "text": [
      "trees on the other side look greener\n"
     ]
    }
   ],
   "source": [
    "# .replace\n",
    "p='grass on the other side look greener'\n",
    "print(p.replace(\"grass\",\"trees\"))"
   ]
  },
  {
   "cell_type": "code",
   "execution_count": 6,
   "id": "50f6472c",
   "metadata": {},
   "outputs": [
    {
     "name": "stdout",
     "output_type": "stream",
     "text": [
      "['gra', '', ' o,n the other ', 'ide look greener']\n",
      "['grass,onthe!othersidelookgreener']\n",
      "['grass ', 'n the Other @ side l', '', 'k greener']\n",
      "['grass ', 'n the Other @ side l', 'ok greeneroooooooo']\n",
      "['grass on the Other @ side look greenerooooo-o-', '-', '']\n",
      "['grass on the other ', ' side look greener']\n",
      "['G', 'R', 'A', 'S']\n"
     ]
    }
   ],
   "source": [
    "# .split = splits if it finds any instances of seperators (space) or which ever character you give\n",
    "# splits into substring\n",
    "p='grass o,n the other side look greener'\n",
    "print(p.split(\"s\"))\n",
    "\n",
    "p='grass,onthe!othersidelookgreener'\n",
    "print(p.split())\n",
    "\n",
    "p='grass on the Other @ side look greener'\n",
    "print(p.split('o'))      # case sensitive\n",
    "\n",
    "p='grass on the Other @ side look greeneroooooooo'\n",
    "print(p.split('o',2))    # it splits at first 2 o's\n",
    "\n",
    "p='grass on the Other @ side look greenerooooo-o-o-o'\n",
    "print(p.rsplit('o',2))   # splits from right\n",
    "\n",
    "p='grass on the other @ side look greener'\n",
    "print(p.split('@'))\n",
    "\n",
    "P = 'GRAS'\n",
    "print([*P])"
   ]
  },
  {
   "cell_type": "markdown",
   "id": "bcb0d99f",
   "metadata": {},
   "source": [
    "# string methods\n"
   ]
  },
  {
   "cell_type": "markdown",
   "id": "1f49b242",
   "metadata": {},
   "source": [
    "## capitalize "
   ]
  },
  {
   "cell_type": "code",
   "execution_count": 1,
   "id": "9f28da87",
   "metadata": {
    "scrolled": true
   },
   "outputs": [
    {
     "data": {
      "text/plain": [
       "'Pavan is hardworking'"
      ]
     },
     "execution_count": 1,
     "metadata": {},
     "output_type": "execute_result"
    }
   ],
   "source": [
    "a='pavan is hardworking'\n",
    "a.capitalize()"
   ]
  },
  {
   "cell_type": "markdown",
   "id": "51c123c8",
   "metadata": {},
   "source": [
    "## casefold"
   ]
  },
  {
   "cell_type": "code",
   "execution_count": 2,
   "id": "f0540cc0",
   "metadata": {},
   "outputs": [
    {
     "name": "stdout",
     "output_type": "stream",
     "text": [
      "my name is pavan\n"
     ]
    }
   ],
   "source": [
    "a='MY NAME is PAVAN'\n",
    "print(a.casefold())"
   ]
  },
  {
   "cell_type": "markdown",
   "id": "3c3fc18d",
   "metadata": {},
   "source": [
    "## centre"
   ]
  },
  {
   "cell_type": "code",
   "execution_count": 56,
   "id": "3008582c",
   "metadata": {},
   "outputs": [
    {
     "name": "stdout",
     "output_type": "stream",
     "text": [
      "                      pavan                       \n",
      "$$$$$$$$$$$$$$$$$$$$$$pavan$$$$$$$$$$$$$$$$$$$$$$$\n",
      "Pavan\n"
     ]
    }
   ],
   "source": [
    "a='pavan'\n",
    "print(a.center(50))\n",
    "print(a.center(50,'$'))\n",
    "print(a.capitalize())\n"
   ]
  },
  {
   "cell_type": "markdown",
   "id": "e8fc2d8e",
   "metadata": {},
   "source": [
    "## count()"
   ]
  },
  {
   "cell_type": "code",
   "execution_count": 4,
   "id": "2c142c65",
   "metadata": {},
   "outputs": [
    {
     "name": "stdout",
     "output_type": "stream",
     "text": [
      "3\n",
      "3\n",
      "2\n"
     ]
    }
   ],
   "source": [
    "a='apple is good for health, apple is tasty, apple is red in colour'\n",
    "print(a.count('apple'))\n",
    "print(a.count('apple',0,200))\n",
    "print(a.count('apple', 3,50))"
   ]
  },
  {
   "cell_type": "markdown",
   "id": "44ea6d67",
   "metadata": {},
   "source": [
    "## find\n"
   ]
  },
  {
   "cell_type": "code",
   "execution_count": 17,
   "id": "98065215",
   "metadata": {},
   "outputs": [
    {
     "name": "stdout",
     "output_type": "stream",
     "text": [
      "23\n",
      "39\n",
      "-1\n"
     ]
    }
   ],
   "source": [
    "a='it is good for health, apple is tasty, apple is red in colour'\n",
    "print(a.find('apple'))\n",
    "print(a.find('apple',25,60))\n",
    "print(a.find('zzz')) # if substring is not present it will show -1 as opposed to showing error like in index()"
   ]
  },
  {
   "cell_type": "markdown",
   "id": "73f50ef9",
   "metadata": {},
   "source": [
    "## endswith"
   ]
  },
  {
   "cell_type": "code",
   "execution_count": 51,
   "id": "11685f8b",
   "metadata": {},
   "outputs": [
    {
     "name": "stdout",
     "output_type": "stream",
     "text": [
      "False\n",
      "True\n",
      "True\n"
     ]
    }
   ],
   "source": [
    "a='apple is good for health, apple is tasty, apple is red in colour'\n",
    "print(a.endswith('apple'))\n",
    "print(a.endswith('colour'))\n",
    "print(a.endswith('apple',0,5))"
   ]
  },
  {
   "cell_type": "markdown",
   "id": "77d96a95",
   "metadata": {},
   "source": [
    "## expandtabs"
   ]
  },
  {
   "cell_type": "code",
   "execution_count": 4,
   "id": "82d7a00b",
   "metadata": {},
   "outputs": [
    {
     "name": "stdout",
     "output_type": "stream",
     "text": [
      "apple\n",
      "apple\n"
     ]
    }
   ],
   "source": [
    "a=('apple')\n",
    "print(a)\n",
    "print(a.expandtabs(2))"
   ]
  },
  {
   "cell_type": "markdown",
   "id": "4ecb5708",
   "metadata": {},
   "source": [
    "## index()"
   ]
  },
  {
   "cell_type": "code",
   "execution_count": 2,
   "id": "956a1e53",
   "metadata": {},
   "outputs": [
    {
     "name": "stdout",
     "output_type": "stream",
     "text": [
      "4\n",
      "14\n",
      "0\n"
     ]
    }
   ],
   "source": [
    "a='apple is a tasty fruit'\n",
    "print(a.index('e'))\n",
    "print(a.index('t',12))\n",
    "print(a.index('a'))"
   ]
  },
  {
   "cell_type": "markdown",
   "id": "e70e2c2c",
   "metadata": {},
   "source": [
    "## isalnum\n",
    "#### to find if the string is alfa-numeric( consisting of both numbers or alphabet)"
   ]
  },
  {
   "cell_type": "code",
   "execution_count": 78,
   "id": "0c38062d",
   "metadata": {},
   "outputs": [
    {
     "name": "stdout",
     "output_type": "stream",
     "text": [
      "True\n",
      "False\n",
      "True\n",
      "True\n"
     ]
    }
   ],
   "source": [
    "a='Charlie777'\n",
    "print(a.isalnum())\n",
    "b='12345$'\n",
    "print(b.isalnum())\n",
    "b='12'\n",
    "print(b.isalnum())\n",
    "b='amazon'\n",
    "print(b.isalnum())\n",
    "\n",
    "a.is"
   ]
  },
  {
   "cell_type": "markdown",
   "id": "d339c883",
   "metadata": {},
   "source": [
    "## Lstrip"
   ]
  },
  {
   "cell_type": "code",
   "execution_count": 3,
   "id": "3301d254",
   "metadata": {},
   "outputs": [
    {
     "name": "stdout",
     "output_type": "stream",
     "text": [
      " strange things\n"
     ]
    }
   ],
   "source": [
    "str=\"####### strange things\"\n",
    "x=str.lstrip(\"#\")\n",
    "print(x)\n"
   ]
  },
  {
   "cell_type": "markdown",
   "id": "08855ec6",
   "metadata": {},
   "source": [
    "## replace"
   ]
  },
  {
   "cell_type": "code",
   "execution_count": 1,
   "id": "3ca92359",
   "metadata": {},
   "outputs": [
    {
     "data": {
      "text/plain": [
       "'####### strange anminal and other anminal'"
      ]
     },
     "execution_count": 1,
     "metadata": {},
     "output_type": "execute_result"
    }
   ],
   "source": [
    "str=\"####### strange things and other things\"\n",
    "str.replace(\"things\",\"anminal\")"
   ]
  },
  {
   "cell_type": "markdown",
   "id": "e163b4c3",
   "metadata": {},
   "source": [
    "## rfind : find the last occurance"
   ]
  },
  {
   "cell_type": "code",
   "execution_count": 8,
   "id": "ca14e17b",
   "metadata": {},
   "outputs": [
    {
     "name": "stdout",
     "output_type": "stream",
     "text": [
      "33\n"
     ]
    }
   ],
   "source": [
    "str=\"####### strange things and other things \"\n",
    "print(str.rfind(\"things\"))"
   ]
  },
  {
   "cell_type": "markdown",
   "id": "b447cf59",
   "metadata": {},
   "source": [
    "## rindex "
   ]
  },
  {
   "cell_type": "code",
   "execution_count": 7,
   "id": "f6048936",
   "metadata": {},
   "outputs": [
    {
     "data": {
      "text/plain": [
       "33"
      ]
     },
     "execution_count": 7,
     "metadata": {},
     "output_type": "execute_result"
    }
   ],
   "source": [
    "str=\"####### strange things and other things\"\n",
    "str.rindex(\"things\")"
   ]
  },
  {
   "cell_type": "markdown",
   "id": "a7833696",
   "metadata": {},
   "source": [
    "## rjust : "
   ]
  },
  {
   "cell_type": "code",
   "execution_count": 9,
   "id": "2f07c03c",
   "metadata": {},
   "outputs": [
    {
     "data": {
      "text/plain": [
       "'            American Tourister'"
      ]
     },
     "execution_count": 9,
     "metadata": {},
     "output_type": "execute_result"
    }
   ],
   "source": [
    "str=\"American Tourister\"\n",
    "str.rjust(25,\"L\")\n",
    "\n",
    "\n",
    "str2=\"American Tourister\"\n",
    "str2.rjust(30,\" \")"
   ]
  },
  {
   "cell_type": "markdown",
   "id": "fe4618cf",
   "metadata": {},
   "source": [
    "## rsplit : The rsplit() method splits a string into a list, starting from the right."
   ]
  },
  {
   "cell_type": "code",
   "execution_count": 8,
   "id": "21f52150",
   "metadata": {},
   "outputs": [
    {
     "data": {
      "text/plain": [
       "['being, consistent, is, the, only',\n",
       " ' way',\n",
       " ' to achieve',\n",
       " ' heights ',\n",
       " 'in ',\n",
       " 'any field']"
      ]
     },
     "execution_count": 8,
     "metadata": {},
     "output_type": "execute_result"
    }
   ],
   "source": [
    "str=\"being, consistent, is, the, only, way, to achieve, heights ,in ,any field\"\n",
    "str.rsplit(\",\",5)"
   ]
  },
  {
   "cell_type": "code",
   "execution_count": 52,
   "id": "adc8edbe",
   "metadata": {},
   "outputs": [
    {
     "data": {
      "text/plain": [
       "['being, consistent, is, the, only, way, to achieve, heights ',\n",
       " 'in ',\n",
       " 'any field']"
      ]
     },
     "execution_count": 52,
     "metadata": {},
     "output_type": "execute_result"
    }
   ],
   "source": [
    "str=\"being, consistent, is, the, only, way, to achieve, heights ,in ,any field\"\n",
    "str.rsplit(\",\",2)"
   ]
  },
  {
   "cell_type": "markdown",
   "id": "8704be34",
   "metadata": {},
   "source": [
    "## rstrip : "
   ]
  },
  {
   "cell_type": "code",
   "execution_count": 9,
   "id": "03e5e779",
   "metadata": {},
   "outputs": [
    {
     "data": {
      "text/plain": [
       "'######strange things'"
      ]
     },
     "execution_count": 9,
     "metadata": {},
     "output_type": "execute_result"
    }
   ],
   "source": [
    "str=\"######strange things#######\"\n",
    "str.rstrip(\"#\")"
   ]
  },
  {
   "cell_type": "code",
   "execution_count": 10,
   "id": "e5df14c6",
   "metadata": {},
   "outputs": [
    {
     "data": {
      "text/plain": [
       "'      strange things'"
      ]
     },
     "execution_count": 10,
     "metadata": {},
     "output_type": "execute_result"
    }
   ],
   "source": [
    "#removes empty spaces too\n",
    "str=\"      strange things    \"\n",
    "str.rstrip()"
   ]
  },
  {
   "cell_type": "markdown",
   "id": "d4be2fc6",
   "metadata": {},
   "source": [
    "# split : "
   ]
  },
  {
   "cell_type": "code",
   "execution_count": 6,
   "id": "d23fc5cb",
   "metadata": {},
   "outputs": [
    {
     "data": {
      "text/plain": [
       "['onetwo', '', 'three', '', 'four']"
      ]
     },
     "execution_count": 6,
     "metadata": {},
     "output_type": "execute_result"
    }
   ],
   "source": [
    "str=\"onetwo@@three@@four\"\n",
    "str.split(\"@\")"
   ]
  },
  {
   "cell_type": "markdown",
   "id": "1db2082d",
   "metadata": {},
   "source": [
    "# startswith"
   ]
  },
  {
   "cell_type": "code",
   "execution_count": 7,
   "id": "5534a500",
   "metadata": {},
   "outputs": [
    {
     "data": {
      "text/plain": [
       "False"
      ]
     },
     "execution_count": 7,
     "metadata": {},
     "output_type": "execute_result"
    }
   ],
   "source": [
    "str=\"being, consistent, is, the, only, way, to achieve, heights ,in ,any field\"\n",
    "str.startswith(\"Happy\")"
   ]
  },
  {
   "cell_type": "code",
   "execution_count": 9,
   "id": "fa9b8411",
   "metadata": {},
   "outputs": [
    {
     "data": {
      "text/plain": [
       "True"
      ]
     },
     "execution_count": 9,
     "metadata": {},
     "output_type": "execute_result"
    }
   ],
   "source": [
    "str=\"being, consistent, is, the, only, way, to achieve, heights ,in ,any field\"\n",
    "str.startswith(\"being\")"
   ]
  },
  {
   "cell_type": "code",
   "execution_count": 14,
   "id": "cbb37c5a",
   "metadata": {},
   "outputs": [
    {
     "data": {
      "text/plain": [
       "True"
      ]
     },
     "execution_count": 14,
     "metadata": {},
     "output_type": "execute_result"
    }
   ],
   "source": [
    "str=\"being, consistent, is, the, only, way, to achieve, heights ,in ,any field\"\n",
    "str.startswith(\"consistent\",7)"
   ]
  },
  {
   "cell_type": "code",
   "execution_count": 15,
   "id": "af0fc0ae",
   "metadata": {},
   "outputs": [
    {
     "data": {
      "text/plain": [
       "False"
      ]
     },
     "execution_count": 15,
     "metadata": {},
     "output_type": "execute_result"
    }
   ],
   "source": [
    "str=\"being, consistent, is, the, only, way, to achieve, heights ,in ,any field\"\n",
    "str.startswith(\"consistent\",8,40)"
   ]
  },
  {
   "cell_type": "markdown",
   "id": "422038cd",
   "metadata": {},
   "source": [
    "# Swapcase"
   ]
  },
  {
   "cell_type": "code",
   "execution_count": 16,
   "id": "7c9a8ca3",
   "metadata": {},
   "outputs": [
    {
     "data": {
      "text/plain": [
       "'tHIS IS deMO'"
      ]
     },
     "execution_count": 16,
     "metadata": {},
     "output_type": "execute_result"
    }
   ],
   "source": [
    "str=\"This is DEmo\"\n",
    "str.swapcase()"
   ]
  },
  {
   "cell_type": "markdown",
   "id": "39184841",
   "metadata": {},
   "source": [
    "# title"
   ]
  },
  {
   "cell_type": "code",
   "execution_count": 18,
   "id": "8f412430",
   "metadata": {},
   "outputs": [
    {
     "data": {
      "text/plain": [
       "'Title Will Have All Words Starting From Capital'"
      ]
     },
     "execution_count": 18,
     "metadata": {},
     "output_type": "execute_result"
    }
   ],
   "source": [
    "str=\"title will have all words starting from capital\"\n",
    "str.title()"
   ]
  },
  {
   "cell_type": "code",
   "execution_count": null,
   "id": "345bfa11",
   "metadata": {},
   "outputs": [],
   "source": []
  },
  {
   "cell_type": "code",
   "execution_count": null,
   "id": "a777b1ba",
   "metadata": {},
   "outputs": [],
   "source": []
  },
  {
   "cell_type": "markdown",
   "id": "ed80a294",
   "metadata": {},
   "source": [
    "# zfill : zero fill"
   ]
  },
  {
   "cell_type": "code",
   "execution_count": 21,
   "id": "1ca03ef2",
   "metadata": {},
   "outputs": [
    {
     "data": {
      "text/plain": [
       "'00000WOW'"
      ]
     },
     "execution_count": 21,
     "metadata": {},
     "output_type": "execute_result"
    }
   ],
   "source": [
    "str=\"WOW\"\n",
    "str.zfill(8)"
   ]
  },
  {
   "cell_type": "markdown",
   "id": "535f8c2f",
   "metadata": {},
   "source": [
    " "
   ]
  },
  {
   "cell_type": "markdown",
   "id": "dd9f67f2",
   "metadata": {},
   "source": [
    "## ord"
   ]
  },
  {
   "cell_type": "code",
   "execution_count": 37,
   "id": "0895a898",
   "metadata": {},
   "outputs": [
    {
     "name": "stdout",
     "output_type": "stream",
     "text": [
      "h\n"
     ]
    }
   ],
   "source": [
    "# string argument of a single Unicode character and return its integer Unicode code point value. \n",
    "a=\"H\"\n",
    "b=chr(ord(a)+32)\n",
    "print(b)\n"
   ]
  },
  {
   "cell_type": "code",
   "execution_count": 21,
   "id": "80f75374",
   "metadata": {},
   "outputs": [
    {
     "name": "stdout",
     "output_type": "stream",
     "text": [
      "104\n",
      "136\n",
      "140\n"
     ]
    }
   ],
   "source": [
    "b=\"Hello world\"\n",
    "print(ord(b[0])+32)\n",
    "\n",
    "b=\"hello world\"\n",
    "print(ord(\"h\")+32)\n",
    "\n",
    "b=\"hello world\"\n",
    "print(ord(b[3])+32)\n",
    "\n",
    "\n",
    "\n"
   ]
  },
  {
   "cell_type": "code",
   "execution_count": 25,
   "id": "c23b9eb2",
   "metadata": {},
   "outputs": [
    {
     "name": "stdout",
     "output_type": "stream",
     "text": [
      "H\n"
     ]
    }
   ],
   "source": [
    "b=\"hello world\"\n",
    "print(chr(ord(b[0])-32))\n",
    "\n"
   ]
  },
  {
   "cell_type": "code",
   "execution_count": 32,
   "id": "2243f5cb",
   "metadata": {},
   "outputs": [
    {
     "name": "stdout",
     "output_type": "stream",
     "text": [
      "5\n",
      "16\n"
     ]
    }
   ],
   "source": [
    "b=\"hello      world\"\n",
    "a=[1,  2,3,4,45]\n",
    "print(len(a))\n",
    "print(len(b))\n",
    "\n"
   ]
  },
  {
   "cell_type": "markdown",
   "id": "80084b53",
   "metadata": {},
   "source": [
    "## join"
   ]
  },
  {
   "cell_type": "code",
   "execution_count": 11,
   "id": "fe2dd7ab",
   "metadata": {},
   "outputs": [
    {
     "name": "stdout",
     "output_type": "stream",
     "text": [
      "H_e_l_l_o\n"
     ]
    }
   ],
   "source": [
    "a=\"_\".join(\"Hello\")\n",
    "print(a)"
   ]
  },
  {
   "cell_type": "code",
   "execution_count": 12,
   "id": "e947f34d",
   "metadata": {},
   "outputs": [
    {
     "name": "stdout",
     "output_type": "stream",
     "text": [
      "H_e_l_l_o_ _w_o_r_l_d\n"
     ]
    }
   ],
   "source": [
    "a=\"_\".join(\"Hello world\")\n",
    "print(a)"
   ]
  },
  {
   "cell_type": "code",
   "execution_count": 15,
   "id": "efe82ed8",
   "metadata": {},
   "outputs": [
    {
     "name": "stdout",
     "output_type": "stream",
     "text": [
      "hello_world\n"
     ]
    }
   ],
   "source": [
    "a=[\"hello\", \"world\"]\n",
    "print(\"_\".join(a))"
   ]
  },
  {
   "cell_type": "code",
   "execution_count": 19,
   "id": "f2a69fa3",
   "metadata": {},
   "outputs": [
    {
     "name": "stdout",
     "output_type": "stream",
     "text": [
      "hello\n"
     ]
    }
   ],
   "source": [
    "d=\"\".join(['h','e','l','l','o'])\n",
    "print(d)"
   ]
  },
  {
   "cell_type": "markdown",
   "id": "e98f34f0",
   "metadata": {},
   "source": [
    "# Escape characters"
   ]
  },
  {
   "cell_type": "code",
   "execution_count": 47,
   "id": "e5743063",
   "metadata": {},
   "outputs": [
    {
     "name": "stdout",
     "output_type": "stream",
     "text": [
      "the grass on the side \n",
      "looks greener\n"
     ]
    }
   ],
   "source": [
    "# \\n = new line\n",
    "a='the grass on the side \\nlooks greener'\n",
    "print(a)"
   ]
  },
  {
   "cell_type": "code",
   "execution_count": 48,
   "id": "cdf10a71",
   "metadata": {},
   "outputs": [
    {
     "name": "stdout",
     "output_type": "stream",
     "text": [
      "the grass on the side \tlooks greener\n"
     ]
    }
   ],
   "source": [
    "# \\t = tab \n",
    "a='the grass on the side \\tlooks greener'\n",
    "print(a)"
   ]
  },
  {
   "cell_type": "code",
   "execution_count": 9,
   "id": "d393f901",
   "metadata": {},
   "outputs": [
    {
     "name": "stdout",
     "output_type": "stream",
     "text": [
      "the grass\"hi\" on the sidelooks greener\n"
     ]
    }
   ],
   "source": [
    "a='the grass\"hi\" on the sidelooks greener'\n",
    "print(a)"
   ]
  },
  {
   "cell_type": "markdown",
   "id": "d27ebfb5",
   "metadata": {},
   "source": [
    "# REGULAR EXPRESSION"
   ]
  },
  {
   "cell_type": "markdown",
   "id": "e67e02fe",
   "metadata": {},
   "source": [
    "## .Findall"
   ]
  },
  {
   "cell_type": "code",
   "execution_count": 20,
   "id": "263f216d",
   "metadata": {},
   "outputs": [
    {
     "name": "stdout",
     "output_type": "stream",
     "text": [
      "['1', '2']\n"
     ]
    }
   ],
   "source": [
    "# [1-20] : lists all the numbers between 1 and 20\n",
    "import re\n",
    "x=\"i ate 3 bananas & 12 apples\"\n",
    "print(re.findall(\"[1-20]\",x))"
   ]
  },
  {
   "cell_type": "code",
   "execution_count": 28,
   "id": "dce6d1f1",
   "metadata": {},
   "outputs": [
    {
     "name": "stdout",
     "output_type": "stream",
     "text": [
      "['a', 'e', 'a', 'n', 'a', 'n', 'a', 's', 'p', 'p', 'l', 'e', 's']\n"
     ]
    }
   ],
   "source": [
    "# [a-s] : lists all the small characters from a to s\n",
    "import re\n",
    "x=\"I ate 3 Bananas & 12 Apples\"\n",
    "print(re.findall(\"[a-s]\",x))"
   ]
  },
  {
   "cell_type": "code",
   "execution_count": 33,
   "id": "f2cb13b7",
   "metadata": {},
   "outputs": [
    {
     "name": "stdout",
     "output_type": "stream",
     "text": [
      "['I', 'B', 'A']\n"
     ]
    }
   ],
   "source": [
    "# [A-Z] : makes a list of all the lettes in capital form falling in between A and Z\n",
    "import re\n",
    "x=\"I ate 3 Bananas & 12 Apples\"\n",
    "print(re.findall(\"[A-Z]\",x))"
   ]
  },
  {
   "cell_type": "code",
   "execution_count": 31,
   "id": "5ee6e6f3",
   "metadata": {},
   "outputs": [
    {
     "name": "stdout",
     "output_type": "stream",
     "text": [
      "['&']\n"
     ]
    }
   ],
   "source": [
    "# \"[&]\" : makes a list of the special character given \n",
    "import re\n",
    "x=\"i ate 3 bananas & 12 apples\"\n",
    "print(re.findall(\"[&]\",x))"
   ]
  },
  {
   "cell_type": "markdown",
   "id": "42d788ff",
   "metadata": {},
   "source": [
    "'''\n",
    "findall : will make a list of all the match objects\n",
    "search : will find where the first occurance of match object\n",
    "split : returns a list where string has split at each match\n",
    "sub : Replaces one or many matches with a string\n",
    "\n",
    "[] : anything written inside the brackets are matched\n",
    "\\d : finds all the numbers 0 to 9\n",
    "\n"
   ]
  },
  {
   "cell_type": "code",
   "execution_count": null,
   "id": "2fd59703",
   "metadata": {},
   "outputs": [],
   "source": [
    "# ..\n",
    "#Search for a sequence that starts with \"he\", followed by two (any) characters, and an \"o\":\n",
    "txt = \"hello planet\"\n",
    "x = re.findall(\"he..o\", txt)\n",
    "print(x)\n"
   ]
  },
  {
   "cell_type": "code",
   "execution_count": null,
   "id": "d13f0edc",
   "metadata": {},
   "outputs": [],
   "source": [
    "# ^\n",
    "#Check if the string starts with 'hello':\n",
    "x = re.findall(\"^hello\", txt)\n",
    "if x:\n",
    "  print(\"Yes, the string starts with 'hello'\")\n",
    "else:\n",
    "  print(\"No match\")\n"
   ]
  },
  {
   "cell_type": "code",
   "execution_count": 34,
   "id": "6224bf23",
   "metadata": {},
   "outputs": [
    {
     "name": "stdout",
     "output_type": "stream",
     "text": [
      "Yes, the string ends with 'planet'\n"
     ]
    }
   ],
   "source": [
    "# $\n",
    "#Check if the string ends with 'planet':\n",
    "txt = \"hello planet\"\n",
    "x = re.findall(\"planet$\", txt)\n",
    "if x:\n",
    "  print(\"Yes, the string ends with 'planet'\")\n",
    "else:\n",
    "  print(\"No match\")\n"
   ]
  },
  {
   "cell_type": "code",
   "execution_count": null,
   "id": "afd9febb",
   "metadata": {},
   "outputs": [],
   "source": []
  },
  {
   "cell_type": "code",
   "execution_count": 3,
   "id": "18467410",
   "metadata": {},
   "outputs": [
    {
     "name": "stdout",
     "output_type": "stream",
     "text": [
      "h\n"
     ]
    },
    {
     "ename": "TypeError",
     "evalue": "string indices must be integers",
     "output_type": "error",
     "traceback": [
      "\u001b[1;31m---------------------------------------------------------------------------\u001b[0m",
      "\u001b[1;31mTypeError\u001b[0m                                 Traceback (most recent call last)",
      "Cell \u001b[1;32mIn[3], line 5\u001b[0m\n\u001b[0;32m      3\u001b[0m \u001b[38;5;28;01mfor\u001b[39;00m i \u001b[38;5;129;01min\u001b[39;00m a:\n\u001b[0;32m      4\u001b[0m     \u001b[38;5;28mprint\u001b[39m(i)\n\u001b[1;32m----> 5\u001b[0m     \u001b[38;5;28mprint\u001b[39m(\u001b[43ma\u001b[49m\u001b[43m[\u001b[49m\u001b[43mi\u001b[49m\u001b[43m]\u001b[49m)\n",
      "\u001b[1;31mTypeError\u001b[0m: string indices must be integers"
     ]
    }
   ],
   "source": [
    "a=\"hello world\"\n",
    "\n",
    "for i in a:\n",
    "    print(i)\n",
    "    print(a[i])"
   ]
  },
  {
   "cell_type": "code",
   "execution_count": 9,
   "id": "a2120ff3",
   "metadata": {},
   "outputs": [
    {
     "name": "stdout",
     "output_type": "stream",
     "text": [
      "h\n",
      "E\n",
      "L\n",
      "l\n",
      "O\n",
      " \n",
      "w\n",
      "o\n",
      "R\n",
      "l\n",
      "D\n"
     ]
    },
    {
     "ename": "IndexError",
     "evalue": "string index out of range",
     "output_type": "error",
     "traceback": [
      "\u001b[1;31m---------------------------------------------------------------------------\u001b[0m",
      "\u001b[1;31mIndexError\u001b[0m                                Traceback (most recent call last)",
      "Cell \u001b[1;32mIn[9], line 14\u001b[0m\n\u001b[0;32m     12\u001b[0m         i\u001b[38;5;241m=\u001b[39mi\u001b[38;5;241m+\u001b[39m\u001b[38;5;241m1\u001b[39m\n\u001b[0;32m     13\u001b[0m \u001b[38;5;28;01melse\u001b[39;00m:\n\u001b[1;32m---> 14\u001b[0m     \u001b[38;5;28mprint\u001b[39m(\u001b[43ma\u001b[49m\u001b[43m[\u001b[49m\u001b[43mi\u001b[49m\u001b[43m]\u001b[49m)\n\u001b[0;32m     15\u001b[0m     i\u001b[38;5;241m=\u001b[39mi\u001b[38;5;241m+\u001b[39m\u001b[38;5;241m1\u001b[39m\n",
      "\u001b[1;31mIndexError\u001b[0m: string index out of range"
     ]
    }
   ],
   "source": [
    "a='HEllo World'\n",
    "i=0\n",
    "while i<=(len(a)+2):\n",
    "    if i%2==0:\n",
    "        if 96<ord(a[i])<123:\n",
    "            b=chr(ord(a[i])-32)\n",
    "            print(b)\n",
    "            i=i+1\n",
    "        elif 64<ord(a[i])<91:\n",
    "            b=chr(ord(a[i])+32)\n",
    "            print(b)\n",
    "            i=i+1\n",
    "    else:\n",
    "        print(a[i])\n",
    "        i=i+1"
   ]
  },
  {
   "cell_type": "code",
   "execution_count": 16,
   "id": "e48c92d6",
   "metadata": {},
   "outputs": [
    {
     "name": "stdout",
     "output_type": "stream",
     "text": [
      "h\n",
      "E\n",
      "L\n",
      "l\n",
      "O\n",
      " \n",
      "w\n",
      "o\n",
      "R\n",
      "l\n",
      "D\n"
     ]
    }
   ],
   "source": [
    "a='HEllo World'\n",
    "i=0\n",
    "while i<=len(a)-1:\n",
    "    if i%2==0:\n",
    "        if 96<ord(a[i])<123:\n",
    "            b=chr(ord(a[i])-32)\n",
    "            print(b)\n",
    "            i=i+1\n",
    "        elif 64<ord(a[i])<91:\n",
    "            b=chr(ord(a[i])+32)\n",
    "            print(b)\n",
    "            i=i+1\n",
    "    else:\n",
    "        print(a[i])\n",
    "        i=i+1"
   ]
  },
  {
   "cell_type": "code",
   "execution_count": 17,
   "id": "eb8ca4d5",
   "metadata": {},
   "outputs": [
    {
     "name": "stdout",
     "output_type": "stream",
     "text": [
      "enter the sentenseHEllo Madam HAppy\n",
      "h\n",
      "E\n",
      "L\n",
      "l\n",
      "O\n",
      " \n",
      "m\n",
      "a\n",
      "D\n",
      "a\n",
      "M\n",
      " \n",
      "h\n",
      "A\n",
      "P\n",
      "p\n",
      "Y\n"
     ]
    }
   ],
   "source": [
    "a=input(\"enter the sentense\")\n",
    "i=0\n",
    "while i<=len(a)-1:\n",
    "    if i%2==0:\n",
    "        if 96<ord(a[i])<123:\n",
    "            b=chr(ord(a[i])-32)\n",
    "            print(b)\n",
    "            i=i+1\n",
    "        elif 64<ord(a[i])<91:\n",
    "            b=chr(ord(a[i])+32)\n",
    "            print(b)\n",
    "            i=i+1\n",
    "    else:\n",
    "        print(a[i])\n",
    "        i=i+1"
   ]
  },
  {
   "cell_type": "code",
   "execution_count": null,
   "id": "5efba206",
   "metadata": {},
   "outputs": [],
   "source": []
  },
  {
   "cell_type": "code",
   "execution_count": null,
   "id": "ae863312",
   "metadata": {},
   "outputs": [],
   "source": []
  },
  {
   "cell_type": "code",
   "execution_count": null,
   "id": "582f5513",
   "metadata": {},
   "outputs": [],
   "source": []
  },
  {
   "cell_type": "code",
   "execution_count": 14,
   "id": "1bb69f61",
   "metadata": {},
   "outputs": [
    {
     "name": "stdout",
     "output_type": "stream",
     "text": [
      "the character at positive index 0and negative index -6 is b\n",
      "the character at positive index 1and negative index -5 is e\n",
      "the character at positive index 2and negative index -4 is s\n",
      "the character at positive index 3and negative index -3 is a\n",
      "the character at positive index 4and negative index -2 is n\n",
      "the character at positive index 5and negative index -1 is t\n"
     ]
    }
   ],
   "source": [
    "s='besant'\n",
    "i=0\n",
    "for x in s:\n",
    "    print('the character at positive index {}and negative index {} is {}'.format(i,i-len(s),x))\n",
    "    i+=1"
   ]
  },
  {
   "cell_type": "code",
   "execution_count": null,
   "id": "333e400b",
   "metadata": {},
   "outputs": [],
   "source": []
  },
  {
   "cell_type": "code",
   "execution_count": null,
   "id": "ff3dbfe6",
   "metadata": {},
   "outputs": [],
   "source": []
  },
  {
   "cell_type": "markdown",
   "id": "9e6f8b0e",
   "metadata": {},
   "source": [
    "# String Programs"
   ]
  },
  {
   "cell_type": "code",
   "execution_count": 13,
   "id": "62356520",
   "metadata": {},
   "outputs": [
    {
     "name": "stdout",
     "output_type": "stream",
     "text": [
      "enter a stringq\n",
      "\n"
     ]
    }
   ],
   "source": [
    "x=input(\"enter a string\")\n",
    "y=\"\"\n",
    "if len(x)>1:\n",
    "    print(x[:2],end=\"\")\n",
    "    print(x[-2:])\n",
    "else:\n",
    "    print(y)"
   ]
  },
  {
   "cell_type": "code",
   "execution_count": 18,
   "id": "0de82293",
   "metadata": {},
   "outputs": [
    {
     "name": "stdout",
     "output_type": "stream",
     "text": [
      "7531\n"
     ]
    }
   ],
   "source": []
  },
  {
   "cell_type": "code",
   "execution_count": 19,
   "id": "ab344a6c",
   "metadata": {},
   "outputs": [
    {
     "name": "stdout",
     "output_type": "stream",
     "text": [
      "w3ce\n",
      "w3w3\n",
      "\n"
     ]
    }
   ],
   "source": [
    "def string_both_ends(str):\n",
    "  if len(str) < 2:\n",
    "    return ''\n",
    "\n",
    "  return str[0:2] + str[-2:]\n",
    "\n",
    "print(string_both_ends('w3resource'))\n",
    "print(string_both_ends('w3'))\n",
    "print(string_both_ends('w'))\n"
   ]
  },
  {
   "cell_type": "code",
   "execution_count": 20,
   "id": "5006f8b3",
   "metadata": {},
   "outputs": [
    {
     "name": "stdout",
     "output_type": "stream",
     "text": [
      "apple\n",
      "aple\n",
      "w3w3\n",
      "\n"
     ]
    }
   ],
   "source": [
    "def string_both_ends(str):\n",
    "  if len(str) < 2:\n",
    "    return ''\n",
    "\n",
    "  return str[0:2] + str[-2:]\n",
    "\n",
    "print(string_both_ends(input()))\n",
    "print(string_both_ends('w3'))\n",
    "print(string_both_ends('w'))\n"
   ]
  },
  {
   "cell_type": "code",
   "execution_count": 27,
   "id": "6266f551",
   "metadata": {},
   "outputs": [
    {
     "ename": "KeyboardInterrupt",
     "evalue": "Interrupted by user",
     "output_type": "error",
     "traceback": [
      "\u001b[1;31m---------------------------------------------------------------------------\u001b[0m",
      "\u001b[1;31mKeyboardInterrupt\u001b[0m                         Traceback (most recent call last)",
      "Cell \u001b[1;32mIn[27], line 1\u001b[0m\n\u001b[1;32m----> 1\u001b[0m x\u001b[38;5;241m=\u001b[39m\u001b[38;5;28;43minput\u001b[39;49m\u001b[43m(\u001b[49m\u001b[38;5;124;43m\"\u001b[39;49m\u001b[38;5;124;43menter a string:\u001b[39;49m\u001b[38;5;124;43m\"\u001b[39;49m\u001b[43m)\u001b[49m\n\u001b[0;32m      2\u001b[0m \u001b[38;5;28;01mdef\u001b[39;00m \u001b[38;5;21mf2l2\u001b[39m():\n\u001b[0;32m      3\u001b[0m     \u001b[38;5;28;01mif\u001b[39;00m \u001b[38;5;28mlen\u001b[39m(x)\u001b[38;5;241m<\u001b[39m\u001b[38;5;241m2\u001b[39m:\n",
      "File \u001b[1;32mC:\\ProgramData\\anaconda3\\lib\\site-packages\\ipykernel\\kernelbase.py:1175\u001b[0m, in \u001b[0;36mKernel.raw_input\u001b[1;34m(self, prompt)\u001b[0m\n\u001b[0;32m   1171\u001b[0m \u001b[38;5;28;01mif\u001b[39;00m \u001b[38;5;129;01mnot\u001b[39;00m \u001b[38;5;28mself\u001b[39m\u001b[38;5;241m.\u001b[39m_allow_stdin:\n\u001b[0;32m   1172\u001b[0m     \u001b[38;5;28;01mraise\u001b[39;00m StdinNotImplementedError(\n\u001b[0;32m   1173\u001b[0m         \u001b[38;5;124m\"\u001b[39m\u001b[38;5;124mraw_input was called, but this frontend does not support input requests.\u001b[39m\u001b[38;5;124m\"\u001b[39m\n\u001b[0;32m   1174\u001b[0m     )\n\u001b[1;32m-> 1175\u001b[0m \u001b[38;5;28;01mreturn\u001b[39;00m \u001b[38;5;28;43mself\u001b[39;49m\u001b[38;5;241;43m.\u001b[39;49m\u001b[43m_input_request\u001b[49m\u001b[43m(\u001b[49m\n\u001b[0;32m   1176\u001b[0m \u001b[43m    \u001b[49m\u001b[38;5;28;43mstr\u001b[39;49m\u001b[43m(\u001b[49m\u001b[43mprompt\u001b[49m\u001b[43m)\u001b[49m\u001b[43m,\u001b[49m\n\u001b[0;32m   1177\u001b[0m \u001b[43m    \u001b[49m\u001b[38;5;28;43mself\u001b[39;49m\u001b[38;5;241;43m.\u001b[39;49m\u001b[43m_parent_ident\u001b[49m\u001b[43m[\u001b[49m\u001b[38;5;124;43m\"\u001b[39;49m\u001b[38;5;124;43mshell\u001b[39;49m\u001b[38;5;124;43m\"\u001b[39;49m\u001b[43m]\u001b[49m\u001b[43m,\u001b[49m\n\u001b[0;32m   1178\u001b[0m \u001b[43m    \u001b[49m\u001b[38;5;28;43mself\u001b[39;49m\u001b[38;5;241;43m.\u001b[39;49m\u001b[43mget_parent\u001b[49m\u001b[43m(\u001b[49m\u001b[38;5;124;43m\"\u001b[39;49m\u001b[38;5;124;43mshell\u001b[39;49m\u001b[38;5;124;43m\"\u001b[39;49m\u001b[43m)\u001b[49m\u001b[43m,\u001b[49m\n\u001b[0;32m   1179\u001b[0m \u001b[43m    \u001b[49m\u001b[43mpassword\u001b[49m\u001b[38;5;241;43m=\u001b[39;49m\u001b[38;5;28;43;01mFalse\u001b[39;49;00m\u001b[43m,\u001b[49m\n\u001b[0;32m   1180\u001b[0m \u001b[43m\u001b[49m\u001b[43m)\u001b[49m\n",
      "File \u001b[1;32mC:\\ProgramData\\anaconda3\\lib\\site-packages\\ipykernel\\kernelbase.py:1217\u001b[0m, in \u001b[0;36mKernel._input_request\u001b[1;34m(self, prompt, ident, parent, password)\u001b[0m\n\u001b[0;32m   1214\u001b[0m             \u001b[38;5;28;01mbreak\u001b[39;00m\n\u001b[0;32m   1215\u001b[0m \u001b[38;5;28;01mexcept\u001b[39;00m \u001b[38;5;167;01mKeyboardInterrupt\u001b[39;00m:\n\u001b[0;32m   1216\u001b[0m     \u001b[38;5;66;03m# re-raise KeyboardInterrupt, to truncate traceback\u001b[39;00m\n\u001b[1;32m-> 1217\u001b[0m     \u001b[38;5;28;01mraise\u001b[39;00m \u001b[38;5;167;01mKeyboardInterrupt\u001b[39;00m(\u001b[38;5;124m\"\u001b[39m\u001b[38;5;124mInterrupted by user\u001b[39m\u001b[38;5;124m\"\u001b[39m) \u001b[38;5;28;01mfrom\u001b[39;00m \u001b[38;5;28mNone\u001b[39m\n\u001b[0;32m   1218\u001b[0m \u001b[38;5;28;01mexcept\u001b[39;00m \u001b[38;5;167;01mException\u001b[39;00m:\n\u001b[0;32m   1219\u001b[0m     \u001b[38;5;28mself\u001b[39m\u001b[38;5;241m.\u001b[39mlog\u001b[38;5;241m.\u001b[39mwarning(\u001b[38;5;124m\"\u001b[39m\u001b[38;5;124mInvalid Message:\u001b[39m\u001b[38;5;124m\"\u001b[39m, exc_info\u001b[38;5;241m=\u001b[39m\u001b[38;5;28;01mTrue\u001b[39;00m)\n",
      "\u001b[1;31mKeyboardInterrupt\u001b[0m: Interrupted by user"
     ]
    }
   ],
   "source": [
    "x=input(\"enter a string:\")\n",
    "def f2l2():\n",
    "    if len(x)<2:\n",
    "        return \"\"\n",
    "    return x[:2]+x[-2:]\n",
    "f2l2()\n",
    "print(a)"
   ]
  },
  {
   "cell_type": "code",
   "execution_count": 28,
   "id": "f1dddd3c",
   "metadata": {},
   "outputs": [
    {
     "name": "stdout",
     "output_type": "stream",
     "text": [
      "ap\n",
      "apap\n"
     ]
    }
   ],
   "source": [
    "def f2l2(x):\n",
    "    if len(x)<2:\n",
    "        return \"\"\n",
    "    return x[:2]+x[-2:]\n",
    "print(f2l2(input()))\n"
   ]
  },
  {
   "cell_type": "code",
   "execution_count": 41,
   "id": "a55bd998",
   "metadata": {},
   "outputs": [
    {
     "name": "stdout",
     "output_type": "stream",
     "text": [
      "enter a stringrestart\n",
      "resta$None\n"
     ]
    }
   ],
   "source": [
    "def cgchr(x):\n",
    "    for i in range(0,len(a)):\n",
    "        if i==0:\n",
    "            print(a[i],end=\"\")\n",
    "        elif a[i]==a[0]:\n",
    "            print(\"$\",end=\"\")\n",
    "        else:\n",
    "            print(a[i],end=\"\")\n",
    "print(cgchr(input(\"enter a string\")))"
   ]
  },
  {
   "cell_type": "code",
   "execution_count": null,
   "id": "eede2764",
   "metadata": {},
   "outputs": [],
   "source": [
    "def chars_mix_up(a, b):\n",
    "  new_a = b[:2] + a[2:]\n",
    "  new_b = a[:2] + b[2:]\n",
    "\n",
    "  return new_a + ' ' + new_b\n",
    "print(chars_mix_up(input(\"enter the first string:\"), input(\"enter the second string:\")))"
   ]
  },
  {
   "cell_type": "code",
   "execution_count": 3,
   "id": "69669415",
   "metadata": {},
   "outputs": [
    {
     "data": {
      "text/plain": [
       "['3h 40', '']"
      ]
     },
     "execution_count": 3,
     "metadata": {},
     "output_type": "execute_result"
    }
   ],
   "source": [
    "s='3h 40m'\n",
    "s.split(\"m\")"
   ]
  },
  {
   "cell_type": "code",
   "execution_count": 2,
   "id": "7028a91e",
   "metadata": {},
   "outputs": [
    {
     "data": {
      "text/plain": [
       "'2h 10'"
      ]
     },
     "execution_count": 2,
     "metadata": {},
     "output_type": "execute_result"
    }
   ],
   "source": [
    "s=\"2h 10m\"\n",
    "l=s.split('h') and s.strip('m')\n",
    "l"
   ]
  },
  {
   "cell_type": "code",
   "execution_count": null,
   "id": "5f0cb18a",
   "metadata": {},
   "outputs": [],
   "source": []
  }
 ],
 "metadata": {
  "kernelspec": {
   "display_name": "Python 3 (ipykernel)",
   "language": "python",
   "name": "python3"
  },
  "language_info": {
   "codemirror_mode": {
    "name": "ipython",
    "version": 3
   },
   "file_extension": ".py",
   "mimetype": "text/x-python",
   "name": "python",
   "nbconvert_exporter": "python",
   "pygments_lexer": "ipython3",
   "version": "3.10.9"
  }
 },
 "nbformat": 4,
 "nbformat_minor": 5
}
